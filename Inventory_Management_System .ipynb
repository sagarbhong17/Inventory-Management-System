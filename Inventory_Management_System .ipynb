{
  "nbformat": 4,
  "nbformat_minor": 0,
  "metadata": {
    "colab": {
      "name": "Inventory Management System.ipynb",
      "provenance": []
    },
    "kernelspec": {
      "name": "python3",
      "display_name": "Python 3"
    },
    "language_info": {
      "name": "python"
    }
  },
  "cells": [
    {
      "cell_type": "code",
      "metadata": {
        "id": "PxjGmD2zHIF5"
      },
      "source": [
        "import json\n",
        "js = json.dumps(invent)\n",
        "fd = open('invent.json','w')\n",
        "fd.write(js)\n",
        "fd.close()"
      ],
      "execution_count": 38,
      "outputs": []
    },
    {
      "cell_type": "code",
      "metadata": {
        "id": "GrrexNrZHL-p"
      },
      "source": [
        "f= open('invent.json','r')\n",
        "r = f.read()\n",
        "records = json.loads(r)"
      ],
      "execution_count": 39,
      "outputs": []
    },
    {
      "cell_type": "code",
      "metadata": {
        "colab": {
          "base_uri": "https://localhost:8080/"
        },
        "id": "6JQP912mHMmD",
        "outputId": "e687333e-a9f9-4e92-a4c6-60aa1fd1f421"
      },
      "source": [
        "for i in records:\n",
        "  print('Product ID:{} | Name: {} | Company: {} | RAM: {} | Cost: {}'.format(i, records[i]['name'], records[i]['company'], records[i]['ram'], records[i]['cost']))"
      ],
      "execution_count": 40,
      "outputs": [
        {
          "output_type": "stream",
          "name": "stdout",
          "text": [
            "Product ID:1001 | Name: iPhone 12 Pro Max | Company: Apple | RAM: 16 | Cost: 115900\n",
            "Product ID:1002 | Name: Galaxy S21 Ultra | Company: Samsung | RAM: 8 | Cost: 105999\n",
            "Product ID:1003 | Name: Mi 11 Ultra | Company: Xiaomi | RAM: 8 | Cost: 69999\n",
            "Product ID:1004 | Name: ROG Phone 5 | Company: Asus | RAM: 8 | Cost: 49999\n",
            "Product ID:1005 | Name: X60 Pro Plus | Company: Vivo | RAM: 6 | Cost: 69990\n",
            "Product ID:1006 | Name: 9 Pro | Company: OnePlus | RAM: 8 | Cost: 64999\n",
            "Product ID:1007 | Name: 7 Legend | Company: iQOO | RAM: 8 | Cost: 39990\n",
            "Product ID:1008 | Name: Nord 2 | Company: OnePlus | RAM: 6 | Cost: 29999\n",
            "Product ID:1009 | Name: X7 Max | Company: Realme | RAM: 16 | Cost: 24921\n",
            "Product ID:1010 | Name: Mi 10i | Company: Xiaomi | RAM: 8 | Cost: 23999\n",
            "Product ID:1011 | Name: Galaxy M31s | Company: Samsung | RAM: 8 | Cost: 16999\n",
            "Product ID:1012 | Name: Redmi Note 10 Pro Max | Company: Xiaomi | RAM: 8 | Cost: 21999\n",
            "Product ID:1013 | Name: Redmi 9 Prime | Company: Xiaomi | RAM: 6 | Cost: 10499\n",
            "Product ID:1014 | Name: C3 | Company: Realme | RAM: 6 | Cost: 8999\n",
            "Product ID:1015 | Name: Redmi 9A | Company: Xiaomi | RAM: 4 | Cost: 6999\n",
            "Product ID:1016 | Name: Galaxy M21 | Company: Samsung | RAM: 6 | Cost: 12999\n",
            "Product ID:1017 | Name: 9 Power | Company: Redmi | RAM: 4 | Cost: 11499\n",
            "Product ID:1018 | Name: A31 | Company: Oppo | RAM: 8 | Cost: 12490\n",
            "Product ID:1019 | Name: A74 | Company: OPPO | RAM: 6 | Cost: 17990\n",
            "Product ID:1020 | Name: narzo 30 | Company: realme | RAM: 4 | Cost: 15499\n",
            "Product ID:1021 | Name: Galaxy M42 | Company: Samsung | RAM: 4 | Cost: 22999\n",
            "Product ID:1022 | Name: 9R 5G | Company: OnePlus | RAM: 4 | Cost: 39999\n",
            "Product ID:1023 | Name: Galaxy M02s | Company: Samsung | RAM: 6 | Cost: 10499\n",
            "Product ID:1024 | Name: POVA 2 | Company: Tecno | RAM: 8 | Cost: 10999\n",
            "Product ID:1025 | Name: Spark 7T | Company: Tecno | RAM: 4 | Cost: 9499\n",
            "Product ID:1026 | Name: Galaxy M51 | Company: Samsung | RAM: 4 | Cost: 21999\n",
            "Product ID:1027 | Name: 11X 5G | Company: Mi | RAM: 3 | Cost: 27999\n",
            "Product ID:1028 | Name: Note 10T | Company: Redmi | RAM: 3 | Cost: 16999\n",
            "Product ID:1029 | Name: Nord CE 5G | Company: OnePlus | RAM: 2 | Cost: 22999\n",
            "Product ID:1030 | Name: note 6 pro | Company: Redmi | RAM: 4 | Cost: 11999\n"
          ]
        }
      ]
    },
    {
      "cell_type": "code",
      "metadata": {
        "id": "Nvu7BwdXHPh3"
      },
      "source": [
        "fd = open(\"invent.json\",'r')\n",
        "r = fd.read()\n",
        "fd.close()\n",
        "\n",
        "records = json.loads(r)"
      ],
      "execution_count": 41,
      "outputs": []
    },
    {
      "cell_type": "code",
      "metadata": {
        "colab": {
          "base_uri": "https://localhost:8080/"
        },
        "id": "4RI-wD3tHZJn",
        "outputId": "b067b00a-08a8-4d1f-806d-be76d96a7a2f"
      },
      "source": [
        "ui_prod  = str(input(\"Enter the product_Id: \"))\n",
        "ui_quant = int(input(\"Enter the quantity: \"))\n",
        "\n",
        "print(\"*\" * 30)\n",
        "print(\"Product: \", records[ui_prod]['name'])\n",
        "print(\"Company: \", records[ui_prod]['company'])\n",
        "print(\"RAM: \", records[ui_prod]['ram'], \"GB\")\n",
        "print(\"Price: \", records[ui_prod]['cost'], \"INR\")\n",
        "print(\"Quantity: \", ui_quant)\n",
        "print(\"*\" * 30)\n",
        "print(\"Billing Amount: \", records[ui_prod]['cost'] * ui_quant, \"INR\")\n",
        "print(\"*\" * 30)\n",
        "\n",
        "records[ui_prod]['qty'] = records[ui_prod]['qty'] - int(ui_quant)"
      ],
      "execution_count": 42,
      "outputs": [
        {
          "output_type": "stream",
          "name": "stdout",
          "text": [
            "Enter the product_Id: 1024\n",
            "Enter the quantity: 5\n",
            "******************************\n",
            "Product:  POVA 2\n",
            "Company:  Tecno\n",
            "RAM:  8 GB\n",
            "Price:  10999 INR\n",
            "Quantity:  5\n",
            "******************************\n",
            "Billing Amount:  54995 INR\n",
            "******************************\n"
          ]
        }
      ]
    },
    {
      "cell_type": "code",
      "metadata": {
        "id": "14VWkQtYHcok"
      },
      "source": [
        "js = json.dumps(records)\n",
        "\n",
        "fd = open(\"invent.json\",'w')\n",
        "fd.write(js)\n",
        "fd.close()"
      ],
      "execution_count": 43,
      "outputs": []
    },
    {
      "cell_type": "code",
      "metadata": {
        "id": "KdCWNRRqHfBt"
      },
      "source": [
        "sales = {'Product_ID' : ui_prod, 'Name' : records[ui_prod]['name'], 'Company' : records[ui_prod]['company'], 'Qty' : ui_quant, 'Amount': records[ui_prod]['cost'] * ui_quant}\n",
        "sale = json.dumps(sales)\n",
        "fd = open(\"sales.json\",'w')\n",
        "fd.write(sale)\n",
        "fd.close()\n"
      ],
      "execution_count": 44,
      "outputs": []
    }
  ]
}